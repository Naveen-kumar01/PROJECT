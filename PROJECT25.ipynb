{
 "cells": [
  {
   "cell_type": "markdown",
   "metadata": {},
   "source": [
    "IMPORT THE REQUIRED LIBRARIES-"
   ]
  },
  {
   "cell_type": "code",
   "execution_count": 1,
   "metadata": {},
   "outputs": [],
   "source": [
    "import pandas as pd\n",
    "import datetime\n",
    "\n",
    "def get_historical_data(symbol,start_date,end_date):\n",
    "    ''' Daily quotes from Google. Date format='yyyy-mm-dd' '''\n",
    "    symbol = symbol.upper()\n",
    "    start = datetime.date(int(start_date[0:4]), int(start_date[5:7]), int(start_date[8:10]))\n",
    "    end = datetime.date(int(end_date[0:4]), int(end_date[5:7]), int(end_date[8:10]))\n",
    "    url_string = \"http://www.google.com/finance/historical?q={0}\".format(symbol)\n",
    "    url_string += \"&startdate={0}&enddate={1}&num={0}&ei=KKltWZHCBNWPuQS9147YBw&output=csv\".format(start.strftime('%b%d,%Y'), end.strftime('%b%d,%Y'),4000)\n",
    "    \n",
    "    col_names = ['Date','Open','High','Low','Close','Volume']\n",
    "    stocks = pd.read_csv(url_string, header=0, names=col_names) \n",
    "    \n",
    "    df = pd.DataFrame(stocks)\n",
    "    return df"
   ]
  },
  {
   "cell_type": "markdown",
   "metadata": {},
   "source": [
    "CLEANING OF DATA AS PER THE MODEL-"
   ]
  },
  {
   "cell_type": "code",
   "execution_count": 3,
   "metadata": {},
   "outputs": [],
   "source": [
    "data = pd.read_csv('google.csv') # from January 1, 2005 to June 30, 2017"
   ]
  },
  {
   "cell_type": "code",
   "execution_count": 4,
   "metadata": {},
   "outputs": [
    {
     "name": "stdout",
     "output_type": "stream",
     "text": [
      "        Date    Open    High     Low   Close   Volume\n",
      "0  30-Jun-17  943.99  945.00  929.61  929.68  2287662\n",
      "1  29-Jun-17  951.35  951.66  929.60  937.82  3206674\n",
      "2  28-Jun-17  950.66  963.24  936.16  961.01  2745568\n",
      "3  27-Jun-17  961.60  967.22  947.09  948.09  2443602\n",
      "4  26-Jun-17  990.00  993.99  970.33  972.09  1517912\n",
      "\n",
      "\n",
      "Open   --- mean : 382.51416852146383   \t Std:  213.48651683323408   \t Max:  1005.49   \t Min:  87.74\n",
      "High   --- mean : 385.87209856915837   \t Std:  214.60229511464593   \t Max:  1008.61   \t Min:  89.29\n",
      "Low    --- mean : 378.7371255961842   \t Std:  212.08010983015183   \t Max:  996.62   \t Min:  86.37\n",
      "Close  --- mean : 382.3502480127191   \t Std:  213.43595872312488   \t Max:  1004.28   \t Min:  87.58\n",
      "Volume --- mean : 4205707.889666136   \t Std:  3877483.007730211   \t Max:  41182889   \t Min:  521141\n"
     ]
    }
   ],
   "source": [
    "import pandas as pd\n",
    "import numpy as np\n",
    "\n",
    "data = pd.read_csv('google.csv')\n",
    "print(data.head())\n",
    "\n",
    "print(\"\\n\")\n",
    "print(\"Open   --- mean :\", np.mean(data['Open']),  \"  \\t Std: \", np.std(data['Open']),  \"  \\t Max: \", np.max(data['Open']),  \"  \\t Min: \", np.min(data['Open']))\n",
    "print(\"High   --- mean :\", np.mean(data['High']),  \"  \\t Std: \", np.std(data['High']),  \"  \\t Max: \", np.max(data['High']),  \"  \\t Min: \", np.min(data['High']))\n",
    "print(\"Low    --- mean :\", np.mean(data['Low']),   \"  \\t Std: \", np.std(data['Low']),   \"  \\t Max: \", np.max(data['Low']),   \"  \\t Min: \", np.min(data['Low']))\n",
    "print(\"Close  --- mean :\", np.mean(data['Close']), \"  \\t Std: \", np.std(data['Close']), \"  \\t Max: \", np.max(data['Close']), \"  \\t Min: \", np.min(data['Close']))\n",
    "print(\"Volume --- mean :\", np.mean(data['Volume']),\"  \\t Std: \", np.std(data['Volume']),\"  \\t Max: \", np.max(data['Volume']),\"  \\t Min: \", np.min(data['Volume']))\n"
   ]
  },
  {
   "cell_type": "code",
   "execution_count": 5,
   "metadata": {},
   "outputs": [
    {
     "name": "stdout",
     "output_type": "stream",
     "text": [
      "   Item    Open   Close    Volume\n",
      "0     0   98.80  101.46  15860692\n",
      "1     1  100.77   97.35  13762396\n",
      "2     2   96.82   96.85   8239545\n",
      "3     3   97.72   94.37  10389803\n",
      "4     4   95.42   97.02   9666175\n",
      "---\n",
      "      Item    Open   Close   Volume\n",
      "3140  3140  990.00  972.09  1517912\n",
      "3141  3141  961.60  948.09  2443602\n",
      "3142  3142  950.66  961.01  2745568\n",
      "3143  3143  951.35  937.82  3206674\n",
      "3144  3144  943.99  929.68  2287662\n"
     ]
    }
   ],
   "source": [
    "import preprocess_data as ppd\n",
    "stocks = ppd.remove_data(data)\n",
    "\n",
    "#Print the dataframe head and tail\n",
    "print(stocks.head())\n",
    "print(\"---\")\n",
    "print(stocks.tail())"
   ]
  },
  {
   "cell_type": "markdown",
   "metadata": {},
   "source": [
    "VISUALIZE THE DATA FOR THE EDA"
   ]
  },
  {
   "cell_type": "code",
   "execution_count": 6,
   "metadata": {},
   "outputs": [
    {
     "data": {
      "text/plain": [
       "<Figure size 1800x1200 with 1 Axes>"
      ]
     },
     "metadata": {},
     "output_type": "display_data"
    }
   ],
   "source": [
    "import visualize\n",
    "\n",
    "visualize.plot_basic(stocks)"
   ]
  },
  {
   "cell_type": "code",
   "execution_count": 7,
   "metadata": {},
   "outputs": [
    {
     "name": "stdout",
     "output_type": "stream",
     "text": [
      "   Item      Open     Close    Volume\n",
      "0     0  0.012051  0.015141  0.377248\n",
      "1     1  0.014198  0.010658  0.325644\n",
      "2     2  0.009894  0.010112  0.189820\n",
      "3     3  0.010874  0.007407  0.242701\n",
      "4     4  0.008368  0.010298  0.224905\n",
      "\n",
      "\n",
      "Open   --- mean : 0.3211922293886812   \t Std:  0.23261946808306658   \t Max:  0.9999999999999999   \t Min:  0.0\n",
      "Close  --- mean : 0.3215558503465895   \t Std:  0.23283076112482215   \t Max:  1.0   \t Min:  0.0\n",
      "Volume --- mean : 0.09061506381049182   \t Std:  0.09535947661989863   \t Max:  0.9999999999999999   \t Min:  0.0\n"
     ]
    }
   ],
   "source": [
    "stocks = ppd.get_normalised_data(stocks)\n",
    "print(stocks.head())\n",
    "\n",
    "print(\"\\n\")\n",
    "print(\"Open   --- mean :\", np.mean(stocks['Open']),  \"  \\t Std: \", np.std(stocks['Open']),  \"  \\t Max: \", np.max(stocks['Open']),  \"  \\t Min: \", np.min(stocks['Open']))\n",
    "print(\"Close  --- mean :\", np.mean(stocks['Close']), \"  \\t Std: \", np.std(stocks['Close']), \"  \\t Max: \", np.max(stocks['Close']), \"  \\t Min: \", np.min(stocks['Close']))\n",
    "print(\"Volume --- mean :\", np.mean(stocks['Volume']),\"  \\t Std: \", np.std(stocks['Volume']),\"  \\t Max: \", np.max(stocks['Volume']),\"  \\t Min: \", np.min(stocks['Volume']))"
   ]
  },
  {
   "cell_type": "code",
   "execution_count": 8,
   "metadata": {},
   "outputs": [
    {
     "data": {
      "image/png": "[encoded data removed]",
      "text/plain": [
       "<Figure size 432x288 with 1 Axes>"
      ]
     },
     "metadata": {
      "needs_background": "light"
     },
     "output_type": "display_data"
    }
   ],
   "source": [
    "visualize.plot_basic(stocks)"
   ]
  },
  {
   "cell_type": "code",
   "execution_count": 9,
   "metadata": {},
   "outputs": [],
   "source": [
    "stocks.to_csv('google_preprocessed.csv',index= False)"
   ]
  },
  {
   "cell_type": "code",
   "execution_count": 10,
   "metadata": {},
   "outputs": [
    {
     "data": {
      "text/html": [
       "<div>\n",
       "<style scoped>\n",
       "    .dataframe tbody tr th:only-of-type {\n",
       "        vertical-align: middle;\n",
       "    }\n",
       "\n",
       "    .dataframe tbody tr th {\n",
       "        vertical-align: top;\n",
       "    }\n",
       "\n",
       "    .dataframe thead th {\n",
       "        text-align: right;\n",
       "    }\n",
       "</style>\n",
       "<table border=\"1\" class=\"dataframe\">\n",
       "  <thead>\n",
       "    <tr style=\"text-align: right;\">\n",
       "      <th></th>\n",
       "      <th>Item</th>\n",
       "      <th>Open</th>\n",
       "      <th>Close</th>\n",
       "      <th>Volume</th>\n",
       "    </tr>\n",
       "  </thead>\n",
       "  <tbody>\n",
       "    <tr>\n",
       "      <th>0</th>\n",
       "      <td>0</td>\n",
       "      <td>0.012051</td>\n",
       "      <td>0.015141</td>\n",
       "      <td>0.377248</td>\n",
       "    </tr>\n",
       "    <tr>\n",
       "      <th>1</th>\n",
       "      <td>1</td>\n",
       "      <td>0.014198</td>\n",
       "      <td>0.010658</td>\n",
       "      <td>0.325644</td>\n",
       "    </tr>\n",
       "    <tr>\n",
       "      <th>2</th>\n",
       "      <td>2</td>\n",
       "      <td>0.009894</td>\n",
       "      <td>0.010112</td>\n",
       "      <td>0.189820</td>\n",
       "    </tr>\n",
       "    <tr>\n",
       "      <th>3</th>\n",
       "      <td>3</td>\n",
       "      <td>0.010874</td>\n",
       "      <td>0.007407</td>\n",
       "      <td>0.242701</td>\n",
       "    </tr>\n",
       "    <tr>\n",
       "      <th>4</th>\n",
       "      <td>4</td>\n",
       "      <td>0.008368</td>\n",
       "      <td>0.010298</td>\n",
       "      <td>0.224905</td>\n",
       "    </tr>\n",
       "  </tbody>\n",
       "</table>\n",
       "</div>"
      ],
      "text/plain": [
       "   Item      Open     Close    Volume\n",
       "0     0  0.012051  0.015141  0.377248\n",
       "1     1  0.014198  0.010658  0.325644\n",
       "2     2  0.009894  0.010112  0.189820\n",
       "3     3  0.010874  0.007407  0.242701\n",
       "4     4  0.008368  0.010298  0.224905"
      ]
     },
     "metadata": {},
     "output_type": "display_data"
    }
   ],
   "source": [
    "import math\n",
    "import pandas as pd\n",
    "import numpy as np\n",
    "from IPython.display import display\n",
    "from sklearn import linear_model\n",
    "from sklearn.model_selection import train_test_split\n",
    "from sklearn.metrics import mean_squared_error\n",
    "from sklearn.model_selection import TimeSeriesSplit\n",
    "\n",
    "import visualize as vs\n",
    "import stock_data as sd\n",
    "import LinearRegressionModel\n",
    "\n",
    "stocks = pd.read_csv('google_preprocessed.csv')\n",
    "display(stocks.head())"
   ]
  },
  {
   "cell_type": "code",
   "execution_count": null,
   "metadata": {},
   "outputs": [],
   "source": [
    "TRAINING THE MODEL USING THE LINEAR REGRESSION"
   ]
  },
  {
   "cell_type": "code",
   "execution_count": 11,
   "metadata": {},
   "outputs": [
    {
     "name": "stdout",
     "output_type": "stream",
     "text": [
      "x_train (2155, 1)\n",
      "y_train (2155, 1)\n",
      "x_test (990, 1)\n",
      "y_test (990, 1)\n"
     ]
    }
   ],
   "source": [
    "X_train, X_test, y_train, y_test, label_range= sd.train_test_split_linear_regression(stocks)\n",
    "\n",
    "print(\"x_train\", X_train.shape)\n",
    "print(\"y_train\", y_train.shape)\n",
    "print(\"x_test\", X_test.shape)\n",
    "print(\"y_test\", y_test.shape)"
   ]
  },
  {
   "cell_type": "code",
   "execution_count": 12,
   "metadata": {},
   "outputs": [],
   "source": [
    "model = LinearRegressionModel.build_model(X_train,y_train)"
   ]
  },
  {
   "cell_type": "code",
   "execution_count": 13,
   "metadata": {},
   "outputs": [],
   "source": [
    "predictions = LinearRegressionModel.predict_prices(model,X_test, label_range)"
   ]
  },
  {
   "cell_type": "code",
   "execution_count": 14,
   "metadata": {},
   "outputs": [
    {
     "data": {
      "image/png": "[encoded data removed]",
      "text/plain": [
       "<Figure size 432x288 with 1 Axes>"
      ]
     },
     "metadata": {
      "needs_background": "light"
     },
     "output_type": "display_data"
    }
   ],
   "source": [
    "vs.plot_prediction(y_test,predictions)"
   ]
  },
  {
   "cell_type": "code",
   "execution_count": 15,
   "metadata": {},
   "outputs": [
    {
     "name": "stdout",
     "output_type": "stream",
     "text": [
      "Train Score: 0.1852 MSE (0.4303 RMSE)\n",
      "Test Score: 0.08133781 MSE (0.28519784 RMSE)\n"
     ]
    }
   ],
   "source": [
    "trainScore = mean_squared_error(X_train, y_train)\n",
    "print('Train Score: %.4f MSE (%.4f RMSE)' % (trainScore, math.sqrt(trainScore)))\n",
    "\n",
    "testScore = mean_squared_error(predictions, y_test)\n",
    "print('Test Score: %.8f MSE (%.8f RMSE)' % (testScore, math.sqrt(testScore)))"
   ]
  },
  {
   "cell_type": "code",
   "execution_count": 16,
   "metadata": {},
   "outputs": [
    {
     "name": "stderr",
     "output_type": "stream",
     "text": [
      "Using TensorFlow backend.\n"
     ]
    },
    {
     "data": {
      "text/html": [
       "<div>\n",
       "<style scoped>\n",
       "    .dataframe tbody tr th:only-of-type {\n",
       "        vertical-align: middle;\n",
       "    }\n",
       "\n",
       "    .dataframe tbody tr th {\n",
       "        vertical-align: top;\n",
       "    }\n",
       "\n",
       "    .dataframe thead th {\n",
       "        text-align: right;\n",
       "    }\n",
       "</style>\n",
       "<table border=\"1\" class=\"dataframe\">\n",
       "  <thead>\n",
       "    <tr style=\"text-align: right;\">\n",
       "      <th></th>\n",
       "      <th>Open</th>\n",
       "      <th>Close</th>\n",
       "      <th>Volume</th>\n",
       "    </tr>\n",
       "  </thead>\n",
       "  <tbody>\n",
       "    <tr>\n",
       "      <th>0</th>\n",
       "      <td>0.012051</td>\n",
       "      <td>0.015141</td>\n",
       "      <td>0.377248</td>\n",
       "    </tr>\n",
       "    <tr>\n",
       "      <th>1</th>\n",
       "      <td>0.014198</td>\n",
       "      <td>0.010658</td>\n",
       "      <td>0.325644</td>\n",
       "    </tr>\n",
       "    <tr>\n",
       "      <th>2</th>\n",
       "      <td>0.009894</td>\n",
       "      <td>0.010112</td>\n",
       "      <td>0.189820</td>\n",
       "    </tr>\n",
       "    <tr>\n",
       "      <th>3</th>\n",
       "      <td>0.010874</td>\n",
       "      <td>0.007407</td>\n",
       "      <td>0.242701</td>\n",
       "    </tr>\n",
       "    <tr>\n",
       "      <th>4</th>\n",
       "      <td>0.008368</td>\n",
       "      <td>0.010298</td>\n",
       "      <td>0.224905</td>\n",
       "    </tr>\n",
       "  </tbody>\n",
       "</table>\n",
       "</div>"
      ],
      "text/plain": [
       "       Open     Close    Volume\n",
       "0  0.012051  0.015141  0.377248\n",
       "1  0.014198  0.010658  0.325644\n",
       "2  0.009894  0.010112  0.189820\n",
       "3  0.010874  0.007407  0.242701\n",
       "4  0.008368  0.010298  0.224905"
      ]
     },
     "metadata": {},
     "output_type": "display_data"
    }
   ],
   "source": [
    "import math\n",
    "import pandas as pd\n",
    "import numpy as np\n",
    "from IPython.display import display\n",
    "\n",
    "from keras.layers.core import Dense, Activation, Dropout\n",
    "from keras.layers.recurrent import LSTM\n",
    "from keras.models import Sequential\n",
    "from keras.metrics import mean_squared_error\n",
    "from sklearn.model_selection import StratifiedKFold\n",
    "\n",
    "import lstm, time #helper libraries\n",
    "\n",
    "import visualize as vs\n",
    "import stock_data as sd\n",
    "import LinearRegressionModel\n",
    "\n",
    "stocks = pd.read_csv('google_preprocessed.csv')\n",
    "stocks_data = stocks.drop(['Item'], axis =1)\n",
    "\n",
    "display(stocks_data.head())"
   ]
  },
  {
   "cell_type": "code",
   "execution_count": 17,
   "metadata": {},
   "outputs": [
    {
     "name": "stdout",
     "output_type": "stream",
     "text": [
      "x_train (2589, 50, 3)\n",
      "y_train (2589,)\n",
      "x_test (446, 50, 3)\n",
      "y_test (446,)\n"
     ]
    },
    {
     "name": "stderr",
     "output_type": "stream",
     "text": [
      "C:\\Users\\navee\\Downloads\\Compressed\\Stock-Price-Predictor-master\\stock_data.py:79: FutureWarning: Method .as_matrix will be removed in a future version. Use .values instead.\n",
      "  x_train = stocks[0:-prediction_time - test_data_cut].as_matrix()\n",
      "C:\\Users\\navee\\Downloads\\Compressed\\Stock-Price-Predictor-master\\stock_data.py:80: FutureWarning: Method .as_matrix will be removed in a future version. Use .values instead.\n",
      "  y_train = stocks[prediction_time:-test_data_cut]['Close'].as_matrix()\n",
      "C:\\Users\\navee\\Downloads\\Compressed\\Stock-Price-Predictor-master\\stock_data.py:83: FutureWarning: Method .as_matrix will be removed in a future version. Use .values instead.\n",
      "  x_test = stocks[0 - test_data_cut:-prediction_time].as_matrix()\n",
      "C:\\Users\\navee\\Downloads\\Compressed\\Stock-Price-Predictor-master\\stock_data.py:84: FutureWarning: Method .as_matrix will be removed in a future version. Use .values instead.\n",
      "  y_test = stocks[prediction_time - test_data_cut:]['Close'].as_matrix()\n"
     ]
    }
   ],
   "source": [
    "X_train, X_test,y_train, y_test = sd.train_test_split_lstm(stocks_data, 5)\n",
    "\n",
    "unroll_length = 50\n",
    "X_train = sd.unroll(X_train, unroll_length)\n",
    "X_test = sd.unroll(X_test, unroll_length)\n",
    "y_train = y_train[-X_train.shape[0]:]\n",
    "y_test = y_test[-X_test.shape[0]:]\n",
    "\n",
    "print(\"x_train\", X_train.shape)\n",
    "print(\"y_train\", y_train.shape)\n",
    "print(\"x_test\", X_test.shape)\n",
    "print(\"y_test\", y_test.shape)"
   ]
  },
  {
   "cell_type": "code",
   "execution_count": 18,
   "metadata": {},
   "outputs": [
    {
     "name": "stdout",
     "output_type": "stream",
     "text": [
      "WARNING:tensorflow:From C:\\ProgramData\\Anaconda3\\lib\\site-packages\\tensorflow\\python\\ops\\resource_variable_ops.py:435: colocate_with (from tensorflow.python.framework.ops) is deprecated and will be removed in a future version.\n",
      "Instructions for updating:\n",
      "Colocations handled automatically by placer.\n",
      "compilation time :  0.031244754791259766\n"
     ]
    }
   ],
   "source": [
    "# build basic lstm model\n",
    "model = lstm.build_basic_model(input_dim = X_train.shape[-1],output_dim = unroll_length, return_sequences=True)\n",
    "\n",
    "# Compile the model\n",
    "start = time.time()\n",
    "model.compile(loss='mean_squared_error', optimizer='adam')\n",
    "print('compilation time : ', time.time() - start)"
   ]
  },
  {
   "cell_type": "code",
   "execution_count": 19,
   "metadata": {},
   "outputs": [
    {
     "name": "stdout",
     "output_type": "stream",
     "text": [
      "WARNING:tensorflow:From C:\\ProgramData\\Anaconda3\\lib\\site-packages\\tensorflow\\python\\ops\\math_ops.py:3066: to_int32 (from tensorflow.python.ops.math_ops) is deprecated and will be removed in a future version.\n",
      "Instructions for updating:\n",
      "Use tf.cast instead.\n",
      "Train on 2459 samples, validate on 130 samples\n",
      "Epoch 1/1\n",
      "2459/2459 [==============================] - 4s 2ms/step - loss: 0.0034 - val_loss: 2.7456e-04\n"
     ]
    },
    {
     "data": {
      "text/plain": [
       "<keras.callbacks.callbacks.History at 0x1cd86893a90>"
      ]
     },
     "execution_count": 19,
     "metadata": {},
     "output_type": "execute_result"
    }
   ],
   "source": [
    "model.fit(\n",
    "    X_train,\n",
    "    y_train,\n",
    "    epochs=1,\n",
    "    validation_split=0.05)"
   ]
  },
  {
   "cell_type": "code",
   "execution_count": 20,
   "metadata": {},
   "outputs": [],
   "source": [
    "predictions = model.predict(X_test)"
   ]
  },
  {
   "cell_type": "code",
   "execution_count": 21,
   "metadata": {},
   "outputs": [
    {
     "data": {
      "image/png": "[encoded data removed]",
      "text/plain": [
       "<Figure size 432x288 with 1 Axes>"
      ]
     },
     "metadata": {
      "needs_background": "light"
     },
     "output_type": "display_data"
    }
   ],
   "source": [
    "vs.plot_lstm_prediction(y_test,predictions)"
   ]
  },
  {
   "cell_type": "code",
   "execution_count": 22,
   "metadata": {},
   "outputs": [
    {
     "name": "stdout",
     "output_type": "stream",
     "text": [
      "Train Score: 0.00034593 MSE (0.01859919 RMSE)\n",
      "Test Score: 0.00154761 MSE (0.03933973 RMSE)\n"
     ]
    }
   ],
   "source": [
    "trainScore = model.evaluate(X_train, y_train, verbose=0)\n",
    "print('Train Score: %.8f MSE (%.8f RMSE)' % (trainScore, math.sqrt(trainScore)))\n",
    "\n",
    "testScore = model.evaluate(X_test, y_test, verbose=0)\n",
    "print('Test Score: %.8f MSE (%.8f RMSE)' % (testScore, math.sqrt(testScore)))"
   ]
  },
  {
   "cell_type": "code",
   "execution_count": 23,
   "metadata": {},
   "outputs": [
    {
     "name": "stdout",
     "output_type": "stream",
     "text": [
      "compilation time :  0.015622377395629883\n"
     ]
    }
   ],
   "source": [
    "# Set up hyperparameters\n",
    "batch_size = 100\n",
    "epochs = 5\n",
    "\n",
    "# build improved lstm model\n",
    "model = lstm.build_improved_model( X_train.shape[-1],output_dim = unroll_length, return_sequences=True)\n",
    "\n",
    "start = time.time()\n",
    "#final_model.compile(loss='mean_squared_error', optimizer='adam')\n",
    "model.compile(loss='mean_squared_error', optimizer='adam')\n",
    "print('compilation time : ', time.time() - start)"
   ]
  },
  {
   "cell_type": "code",
   "execution_count": 24,
   "metadata": {},
   "outputs": [
    {
     "name": "stdout",
     "output_type": "stream",
     "text": [
      "Train on 2459 samples, validate on 130 samples\n",
      "Epoch 1/5\n",
      " - 3s - loss: 0.0086 - val_loss: 3.2679e-04\n",
      "Epoch 2/5\n",
      " - 3s - loss: 0.0011 - val_loss: 9.8844e-04\n",
      "Epoch 3/5\n",
      " - 3s - loss: 7.5462e-04 - val_loss: 3.7038e-04\n",
      "Epoch 4/5\n",
      " - 3s - loss: 6.9468e-04 - val_loss: 2.9343e-04\n",
      "Epoch 5/5\n",
      " - 3s - loss: 6.4685e-04 - val_loss: 3.0659e-04\n"
     ]
    },
    {
     "data": {
      "text/plain": [
       "<keras.callbacks.callbacks.History at 0x1cd890a6c18>"
      ]
     },
     "execution_count": 24,
     "metadata": {},
     "output_type": "execute_result"
    }
   ],
   "source": [
    "model.fit(X_train, \n",
    "          y_train, \n",
    "          batch_size=batch_size,\n",
    "          epochs=epochs,\n",
    "          verbose=2,\n",
    "          validation_split=0.05\n",
    "         )"
   ]
  },
  {
   "cell_type": "code",
   "execution_count": 25,
   "metadata": {},
   "outputs": [],
   "source": [
    "# Generate predictions \n",
    "predictions = model.predict(X_test, batch_size=batch_size)"
   ]
  },
  {
   "cell_type": "code",
   "execution_count": 26,
   "metadata": {},
   "outputs": [
    {
     "data": {
      "image/png": "[encoded data removed]",
      "text/plain": [
       "<Figure size 432x288 with 1 Axes>"
      ]
     },
     "metadata": {
      "needs_background": "light"
     },
     "output_type": "display_data"
    }
   ],
   "source": [
    "vs.plot_lstm_prediction(y_test,predictions)"
   ]
  },
  {
   "cell_type": "code",
   "execution_count": 27,
   "metadata": {},
   "outputs": [
    {
     "name": "stdout",
     "output_type": "stream",
     "text": [
      "Train Score: 0.00035461 MSE (0.01883117 RMSE)\n",
      "Test Score: 0.00101811 MSE (0.03190789 RMSE)\n"
     ]
    }
   ],
   "source": [
    "trainScore = model.evaluate(X_train, y_train, verbose=0)\n",
    "print('Train Score: %.8f MSE (%.8f RMSE)' % (trainScore, math.sqrt(trainScore)))\n",
    "\n",
    "testScore = model.evaluate(X_test, y_test, verbose=0)\n",
    "print('Test Score: %.8f MSE (%.8f RMSE)' % (testScore, math.sqrt(testScore)))"
   ]
  },
  {
   "cell_type": "code",
   "execution_count": 28,
   "metadata": {},
   "outputs": [
    {
     "name": "stdout",
     "output_type": "stream",
     "text": [
      "Delta Price: 0.001018 - RMSE * Adjusted Close Range\n"
     ]
    }
   ],
   "source": [
    "range = [np.amin(stocks_data['Close']), np.amax(stocks_data['Close'])]\n",
    "\n",
    "#Calculate the stock price delta in $\n",
    "\n",
    "true_delta = testScore*(range[1]-range[0])\n",
    "print('Delta Price: %.6f - RMSE * Adjusted Close Range' % true_delta)    "
   ]
  },
  {
   "cell_type": "code",
   "execution_count": 29,
   "metadata": {},
   "outputs": [
    {
     "name": "stdout",
     "output_type": "stream",
     "text": [
      "       Open     Close    Volume\n",
      "0  0.123901  0.000000  0.606442\n",
      "1  0.000000  0.174601  1.000000\n",
      "2  0.010989  0.112263  0.921928\n",
      "3  0.093132  0.291229  0.575381\n",
      "4  0.243819  0.430228  0.366556\n",
      "(12, 1, 3)\n",
      "(12,)\n",
      "Test Score: 0.3943 MSE (0.6280 RMSE)\n"
     ]
    },
    {
     "name": "stderr",
     "output_type": "stream",
     "text": [
      "C:\\ProgramData\\Anaconda3\\lib\\site-packages\\ipykernel_launcher.py:13: FutureWarning: Method .as_matrix will be removed in a future version. Use .values instead.\n",
      "  del sys.path[0]\n",
      "C:\\ProgramData\\Anaconda3\\lib\\site-packages\\ipykernel_launcher.py:14: FutureWarning: Method .as_matrix will be removed in a future version. Use .values instead.\n",
      "  \n"
     ]
    }
   ],
   "source": [
    "import preprocess_data as ppd\n",
    "\n",
    "data = pd.read_csv('googl.csv')\n",
    "\n",
    "stocks = ppd.remove_data(data)\n",
    "\n",
    "stocks = ppd.get_normalised_data(stocks)\n",
    "\n",
    "stocks = stocks.drop(['Item'], axis = 1)\n",
    "#Print the dataframe head and tail\n",
    "print(stocks.head())\n",
    "\n",
    "X = stocks[:].as_matrix()\n",
    "Y = stocks[:]['Close'].as_matrix()\n",
    "\n",
    "X = sd.unroll(X,1)\n",
    "Y = Y[-X.shape[0]:]\n",
    "\n",
    "print(X.shape)\n",
    "print(Y.shape)\n",
    "\n",
    "# Generate predictions \n",
    "predictions = model.predict(X)\n",
    "\n",
    "#get the test score\n",
    "testScore = model.evaluate(X, Y, verbose=0)\n",
    "print('Test Score: %.4f MSE (%.4f RMSE)' % (testScore, math.sqrt(testScore)))"
   ]
  },
  {
   "cell_type": "code",
   "execution_count": null,
   "metadata": {},
   "outputs": [],
   "source": []
  }
 ],
 "metadata": {
  "kernelspec": {
   "display_name": "Python 3",
   "language": "python",
   "name": "python3"
  },
  "language_info": {
   "codemirror_mode": {
    "name": "ipython",
    "version": 3
   },
   "file_extension": ".py",
   "mimetype": "text/x-python",
   "name": "python",
   "nbconvert_exporter": "python",
   "pygments_lexer": "ipython3",
   "version": "3.7.3"
  }
 },
 "nbformat": 4,
 "nbformat_minor": 2
}
